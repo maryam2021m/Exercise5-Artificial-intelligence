{
 "cells": [
  {
   "cell_type": "code",
   "execution_count": 24,
   "metadata": {},
   "outputs": [],
   "source": [
    "import random\n",
    "import math"
   ]
  },
  {
   "cell_type": "code",
   "execution_count": 25,
   "metadata": {},
   "outputs": [
    {
     "name": "stdout",
     "output_type": "stream",
     "text": [
      "Enter Number of Queens: 5\n"
     ]
    }
   ],
   "source": [
    "N = int(input(\"Enter Number of Queens: \"))"
   ]
  },
  {
   "cell_type": "code",
   "execution_count": 26,
   "metadata": {},
   "outputs": [],
   "source": [
    "TEMPERATURE = 200000"
   ]
  },
  {
   "cell_type": "code",
   "execution_count": 27,
   "metadata": {},
   "outputs": [],
   "source": [
    "def random_board():\n",
    "    board = list([random.randint(0, N-1) for x in range(N)])  \n",
    "    return board"
   ]
  },
  {
   "cell_type": "code",
   "execution_count": 28,
   "metadata": {},
   "outputs": [],
   "source": [
    "                                     \"\"\"number of conflicts\"\"\"\n",
    "def num_of_conflicts(state):\n",
    "    conflicts = 0 \n",
    "    for curr_queen in range(N): \n",
    "        for other_queen in range(curr_queen + 1, N):\n",
    "            if state[curr_queen] == state[other_queen]:  \n",
    "                conflicts += 1\n",
    "            if abs(state[curr_queen] - state[other_queen]) == (other_queen - curr_queen):\n",
    "                conflicts += 1\n",
    "    return conflicts"
   ]
  },
  {
   "cell_type": "code",
   "execution_count": 29,
   "metadata": {},
   "outputs": [],
   "source": [
    "def simulated_annealing():\n",
    "    solution_found = False \n",
    "    curr_state = random_board()\n",
    "    curr_num_conflicts = num_of_conflicts(curr_state) \n",
    "    t = TEMPERATURE\n",
    "    # cooling rate\n",
    "    sch = 0.99\n",
    "    iterations = 100000\n",
    "    while t > 0 and iterations > 0:\n",
    "        successor = curr_state.copy()\n",
    "        col = random.randint(0, N - 1)\n",
    "        row = random.randint(0, N - 1)\n",
    "        successor[col] = row\n",
    "        successor_conflicts = num_of_conflicts(successor)\n",
    "        delta = successor_conflicts - curr_num_conflicts\n",
    "        # check if the neighbor is better or the propability is bigger then random prop\n",
    "        if delta < 0 or random.uniform(0, 1) < math.exp(-delta / t):\n",
    "            curr_state = successor.copy()\n",
    "            curr_num_conflicts = num_of_conflicts(curr_state)\n",
    "            t *= sch\n",
    "            iterations -= 1\n",
    "        if curr_num_conflicts == 0:\n",
    "            solution_found = True\n",
    "            print_board(curr_state)\n",
    "            break\n",
    "    if solution_found is False:\n",
    "        print(\"Failed\")"
   ]
  },
  {
   "cell_type": "code",
   "execution_count": 30,
   "metadata": {},
   "outputs": [],
   "source": [
    "                                   \"\"\"Print the board\"\"\"\n",
    "def print_board(board):\n",
    "    for col in range(N):\n",
    "        for row in range(N):\n",
    "            if board[col] == row:\n",
    "                print('Q', end=\" \")\n",
    "            else:\n",
    "                print('x', end=\" \")\n",
    "        print()\n",
    "    print()"
   ]
  },
  {
   "cell_type": "code",
   "execution_count": 31,
   "metadata": {},
   "outputs": [
    {
     "name": "stdout",
     "output_type": "stream",
     "text": [
      "Q x x x x \n",
      "x x x Q x \n",
      "x Q x x x \n",
      "x x x x Q \n",
      "x x Q x x \n",
      "\n"
     ]
    }
   ],
   "source": [
    "def main():\n",
    "    simulated_annealing()\n",
    "\n",
    "if __name__ == \"__main__\":\n",
    "        main()"
   ]
  },
  {
   "cell_type": "code",
   "execution_count": null,
   "metadata": {},
   "outputs": [],
   "source": []
  }
 ],
 "metadata": {
  "kernelspec": {
   "display_name": "Python 3",
   "language": "python",
   "name": "python3"
  },
  "language_info": {
   "codemirror_mode": {
    "name": "ipython",
    "version": 3
   },
   "file_extension": ".py",
   "mimetype": "text/x-python",
   "name": "python",
   "nbconvert_exporter": "python",
   "pygments_lexer": "ipython3",
   "version": "3.8.3"
  }
 },
 "nbformat": 4,
 "nbformat_minor": 4
}
